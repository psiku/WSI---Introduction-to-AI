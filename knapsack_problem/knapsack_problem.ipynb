{
  "cells": [
    {
      "cell_type": "markdown",
      "source": [
        "#Zadanie 1a (3 pkt)\n",
        "Celem zadania jest rozwiązanie problemu plecakowego dwoma metodami - brute force oraz według zadanej heurystyki. Należy zaimplementować metody klasy *KnapSack* - *solve_knapsack_brute_force* oraz *solve_knapsack_pw_ratio*. Poprzez rozwiązanie problemu rozumiemy podanie które przedmioty (indeksy w tablicy) należy spakować do plecaka oraz jaka jest sumaryczna wartość i masa plecaka. Punktacja wygląda następująco:\n",
        "\n",
        "\n",
        "*   Rozwiązanie problemu metodą brute force. *Podpowiedź: do wygenerowania wszystkich permutacji można użyć funkcji product z biblioteki itertools* - **1.5 pkt**\n",
        "*   Rozwiązanie problemu według heurystyki - do plecaka pakujemy przedmioty według stosunku wartości do wagi - **1 pkt**\n",
        "*   Dla metody brute force proszę wygenerować wykres zależności czasu wykonywania metody od liczby elementów w tablicach *weights* i *profits* (do obu tablic należy stopniowo dopisywać po jednym elemencie, np. 10-krotnie, wartości elementów nie mają znaczenia). Proszę również odpowiedzieć na pytania (w osobnej komórce tekstowej) - czy obie metody mają takie same rozwiązania? Jakie są Pani / Pana wnioski? - **0.5 pkt**\n",
        "\n",
        "\n"
      ],
      "metadata": {
        "id": "88lxDms-saqt"
      }
    },
    {
      "cell_type": "code",
      "source": [
        "import numpy as np\n",
        "import matplotlib.pyplot as plt\n",
        "from itertools import product\n",
        "import time"
      ],
      "outputs": [],
      "execution_count": 1,
      "metadata": {
        "id": "1X0PiYKZ2w63"
      }
    },
    {
      "cell_type": "code",
      "source": [
        "class KnapSack:\n",
        "  def __init__(self, profits, weights, capacity):\n",
        "    self.profits = profits\n",
        "    self.weights = weights\n",
        "    self.capacity = capacity\n",
        "\n",
        "  # tworzenie permutacji 0 i 1\n",
        "  def create_all_combinatnions(self) -> list:\n",
        "      combinations = list(product([0, 1], repeat=len(self.weights)))\n",
        "\n",
        "      comb_array = [np.array(combination) for combination in combinations]\n",
        "\n",
        "      return comb_array\n",
        "\n",
        "  # znajdujemy najlepsze połączenie przedmiotów\n",
        "  def find_best_permutation(self) -> list:\n",
        "      combinations_list = self.create_all_combinatnions()\n",
        "      max_profit = 0\n",
        "\n",
        "      for permutation in combinations_list:\n",
        "          items = self.weights * permutation\n",
        "          items_weight = items.sum()\n",
        "\n",
        "          if items_weight <= self.capacity:\n",
        "              items_profits = (self.profits * permutation).sum()\n",
        "\n",
        "          if items_profits > max_profit:\n",
        "              max_profit = items_profits\n",
        "              best_combination = permutation\n",
        "\n",
        "      return best_combination, max_profit\n",
        "\n",
        "  def solve_knapsack_brute_force(self) -> list:\n",
        "      best_combination = self.find_best_permutation()[0]\n",
        "      max_profit = self.find_best_permutation()[1]\n",
        "\n",
        "      selected_items = [index for index, value in enumerate(best_combination) if value == 1]\n",
        "\n",
        "      return selected_items, max_profit\n",
        "\n",
        "  # zwraca array profit/waga\n",
        "  def calculate_profit_to_weight_ratio(self) -> list:\n",
        "      return self.profits / self.weights\n",
        "\n",
        "  # zwraca indeksy malejąco profitem\n",
        "  def descending_order_of_ratios(self) -> list:\n",
        "      ratios = self.calculate_profit_to_weight_ratio()\n",
        "      sorted_index = np.argsort(ratios)[::-1]\n",
        "\n",
        "      return sorted_index\n",
        "\n",
        "  def solve_knapsack_pw_ratio(self) -> list:\n",
        "      sorted_elements = self.descending_order_of_ratios()\n",
        "\n",
        "      # zmienne pomocnicze\n",
        "      current_profit = 0\n",
        "      indexes = [0] * len(self.weights)\n",
        "\n",
        "      for index in sorted_elements:\n",
        "          if self.weights[index] <= self.capacity:\n",
        "              indexes[index] = 1\n",
        "              current_profit += self.profits[index]\n",
        "              self.capacity -= self.weights[index]\n",
        "          else:\n",
        "            continue\n",
        "\n",
        "      return [index for index, value in enumerate(indexes) if value == 1], current_profit\n"
      ],
      "outputs": [],
      "execution_count": 40,
      "metadata": {
        "id": "s5J82x9WuSOh"
      }
    },
    {
      "cell_type": "code",
      "source": [
        "timer = []\n",
        "amount_of_items = []"
      ],
      "metadata": {
        "id": "MTW7n1_aP_VZ"
      },
      "execution_count": 7,
      "outputs": []
    },
    {
      "cell_type": "code",
      "source": [
        "weights = np.array([8, 3, 5, 2, 3, 1, 6, 1, 9, 5, 2, 1, 6, 1])\n",
        "capacity = 9\n",
        "profits = np.array([16, 8, 9, 6, 3, 2, 8, 1, 6, 14, 7, 4, 1, 1])\n",
        "\n",
        "A = KnapSack(profits, weights, capacity)\n",
        "print(\"Brute Force : \", A.solve_knapsack_brute_force())\n",
        "print(\"PW Ratio : \", A.solve_knapsack_pw_ratio())"
      ],
      "metadata": {
        "colab": {
          "base_uri": "https://localhost:8080/"
        },
        "id": "0neVXBQN_hm_",
        "outputId": "0519e6b8-d6bd-4101-e572-b064fbfc955a"
      },
      "execution_count": 41,
      "outputs": [
        {
          "output_type": "stream",
          "name": "stdout",
          "text": [
            "Brute Force :  ([5, 9, 10, 11], 27)\n",
            "PW Ratio :  ([1, 3, 5, 10, 11], 27)\n"
          ]
        }
      ]
    },
    {
      "cell_type": "code",
      "source": [
        "weights = np.array([8, 3, 5, 2])\n",
        "capacity = 9\n",
        "profits = np.array([16, 8, 9, 6])\n",
        "A = KnapSack(profits, weights, capacity)\n",
        "print(\"Brute Force : \", A.solve_knapsack_brute_force())\n",
        "print(\"PW Ratio : \", A.solve_knapsack_pw_ratio())"
      ],
      "metadata": {
        "colab": {
          "base_uri": "https://localhost:8080/"
        },
        "id": "gG4yGXdhfUMh",
        "outputId": "07ee5f01-3b36-4689-ff0d-3945b6e859e4"
      },
      "execution_count": 43,
      "outputs": [
        {
          "output_type": "stream",
          "name": "stdout",
          "text": [
            "Brute Force :  ([1, 2], 17)\n",
            "PW Ratio :  ([1, 3], 14)\n"
          ]
        }
      ]
    },
    {
      "cell_type": "code",
      "source": [
        "def calculate_time(weights: list, profits: list, capacity: list) -> float:\n",
        "    knapsack = KnapSack(profits, weights, capacity)\n",
        "\n",
        "    start_time = time.time()\n",
        "    knapsack.solve_knapsack_brute_force()\n",
        "    end_time = time.time()\n",
        "\n",
        "    execution_time = end_time - start_time\n",
        "    return execution_time"
      ],
      "metadata": {
        "id": "O1yjHpHNO0mh"
      },
      "execution_count": 5,
      "outputs": []
    },
    {
      "cell_type": "code",
      "source": [
        "timer.append(calculate_time(weights, profits, capacity))\n",
        "amount_of_items.append(len(weights))\n",
        "print(timer)\n",
        "print(amount_of_items)"
      ],
      "metadata": {
        "colab": {
          "base_uri": "https://localhost:8080/"
        },
        "id": "DLtJCbfgPchL",
        "outputId": "ce88bb43-0200-4f3b-8205-372ccc6dd1b3"
      },
      "execution_count": 29,
      "outputs": [
        {
          "output_type": "stream",
          "name": "stdout",
          "text": [
            "[0.00025463104248046875, 0.0003025531768798828, 0.00033211708068847656, 0.0009529590606689453, 0.0018219947814941406, 0.003770112991333008, 0.0040552616119384766, 0.009543418884277344, 0.024737834930419922, 0.07718443870544434, 0.08229207992553711]\n",
            "[4, 5, 6, 7, 8, 9, 10, 11, 12, 13, 14]\n"
          ]
        }
      ]
    },
    {
      "cell_type": "markdown",
      "source": [
        "MAKING THE PLOT\n"
      ],
      "metadata": {
        "id": "YOlIM846RJdI"
      }
    },
    {
      "cell_type": "code",
      "source": [
        "plt.plot(amount_of_items, timer, marker=\"o\")\n",
        "plt.title('Brute Force time of execution')\n",
        "plt.xlabel(\"Amount of items\")\n",
        "plt.ylabel(\"Time [s]\")\n",
        "plt.show()"
      ],
      "metadata": {
        "colab": {
          "base_uri": "https://localhost:8080/",
          "height": 472
        },
        "id": "lLjDmFxFRF9v",
        "outputId": "141811fc-c508-43f7-8d69-ee9987def54a"
      },
      "execution_count": 30,
      "outputs": [
        {
          "output_type": "display_data",
          "data": {
            "text/plain": [
              "<Figure size 640x480 with 1 Axes>"
            ],
            "image/png": "[encoded data removed]"
          },
          "metadata": {}
        }
      ]
    },
    {
      "cell_type": "markdown",
      "source": [
        "Wyszukiwanie przy użyciu heurystyki często daje błędne wyniki, ponieważ nie sprawdza wszystkich możliwości i często zostawia wolne miejsce, które mogłoby zostać zapełnione innym przedmiotem o mniejszym stosunku zysku do wagi. Widać, że dla metody brute force czas rośnie wykładniczo"
      ],
      "metadata": {
        "id": "G1JRT7ZuRmfP"
      }
    },
    {
      "cell_type": "code",
      "source": [],
      "metadata": {
        "id": "LnM0fXVPhGBb"
      },
      "execution_count": null,
      "outputs": []
    }
  ],
  "metadata": {
    "colab": {
      "provenance": []
    },
    "kernelspec": {
      "name": "python3",
      "display_name": "Python 3"
    },
    "language_info": {
      "name": "python"
    },
    "accelerator": "GPU",
    "nteract": {
      "version": "nteract-front-end@1.0.0"
    }
  },
  "nbformat": 4,
  "nbformat_minor": 0
}