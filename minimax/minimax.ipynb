{
  "cells": [
    {
      "cell_type": "markdown",
      "metadata": {
        "collapsed": false
      },
      "source": [
        "# Ćwiczenie 3\n",
        "\n",
        "Celem ćwiczenia jest imlementacja metody [Minimax z obcinaniem alpha-beta](https://en.wikipedia.org/wiki/Alpha%E2%80%93beta_pruning) do gry Connect Four (czwórki).\n",
        "\n",
        "W trakcie ćwiczenia można skorzystać z reposytorium z implementacją gry [Connect Four udostępnionym przez Jakuba Łyskawę](https://github.com/lychanl/two-player-games). Ewentualnie, można zaimplementować samemu grę Connect Four (ale, tak aby rozwiązanie miało ten sam interfejs co podany poniżej).\n",
        "\n",
        "Implementację Minimax należy przetestować używając różną głębokość przeszukiwania. Implementacja Solvera musi zapewniać interfejs jak poniżej, ale można dodać dowolne metody prywatne oraz klasy wspomagające (jeżeli będą potrzebne).\n",
        "\n",
        "Punktacja:\n",
        "- Działająca metoda Minimax - **2 pkt**\n",
        "- Działająca metoda Minimax z obcinaniem alpha-beta - **1.5 pkt**\n",
        "- Analiza jakości solvera w zależności od głębokości przeszukiwania **1.5pkt**\n",
        "    - należy zaimplementować w tym celu prostą wizualizację rozgrywki dwóch agentów, bądź kilka przykładów 'z ręki'\n",
        "- Jakość kodu **2pkt**"
      ]
    },
    {
      "cell_type": "markdown",
      "metadata": {
        "collapsed": false
      },
      "source": [
        "Aby importowanie elementów z poniższej komórki działało należy umieścić tego notebooka w tym samym folderze co paczkę `two_player_games`:\n",
        "```\n",
        "├── LICENSE\n",
        "├── README.md\n",
        "├── minimax.ipynb # <<< HERE\n",
        "├── test\n",
        "│   ├── __init__.py\n",
        "│   ├── test_connect_four.py\n",
        "│   ├── test_dots_and_boxes.py\n",
        "│   └── test_pick.py\n",
        "└── two_player_games\n",
        "    ├── __init__.py\n",
        "    ├── games\n",
        "    │   ├── connect_four.py\n",
        "    │   └── dots_and_boxes.py\n",
        "    ├── move.py\n",
        "    ├── player.py\n",
        "    └── state.py\n",
        "```"
      ]
    },
    {
      "cell_type": "code",
      "execution_count": 1,
      "metadata": {
        "collapsed": true
      },
      "outputs": [],
      "source": [
        "from typing import Tuple, List\n",
        "import random\n",
        "from time import time\n",
        "import numpy as np\n",
        "import matplotlib.pyplot as plt\n",
        "from itertools import groupby\n",
        "from two_player_games.player import Player\n",
        "from two_player_games.games.connect_four import ConnectFour, ConnectFourMove"
      ]
    },
    {
      "cell_type": "markdown",
      "metadata": {
        "collapsed": false
      },
      "source": [
        "Wielkość planszy"
      ]
    },
    {
      "cell_type": "code",
      "execution_count": 2,
      "metadata": {
        "collapsed": false
      },
      "outputs": [],
      "source": [
        "ROW_COUNT = 6\n",
        "COLUMN_COUNT = 7"
      ]
    },
    {
      "cell_type": "markdown",
      "metadata": {},
      "source": [
        "Wartości grup"
      ]
    },
    {
      "cell_type": "code",
      "execution_count": 3,
      "metadata": {},
      "outputs": [],
      "source": [
        "VALUES = np.array([1, 4, 9, 16])"
      ]
    },
    {
      "cell_type": "code",
      "execution_count": 4,
      "metadata": {
        "collapsed": false
      },
      "outputs": [],
      "source": [
        "#klasa MiniMaxSolver\n",
        "class MinMaxSolver:\n",
        "\n",
        "    def __init__(self, game: ConnectFour):\n",
        "        self.game = game\n",
        "\n",
        "    def generate_subarrays(self):\n",
        "        fields = self.game.state.fields\n",
        "        matrix = np.array(fields)\n",
        "\n",
        "        subarrays = []\n",
        "\n",
        "        # Podtablice kolumn\n",
        "        subarrays.extend(matrix[i, :] for i in range(matrix.shape[0]))\n",
        "\n",
        "        # Podtablice wierszy\n",
        "        subarrays.extend(matrix[:, j] for j in range(matrix.shape[1]))\n",
        "\n",
        "        # Pobieranie przekątnej z lewej do prawej od długości 1 do 7\n",
        "        diagonals_left_to_right = [matrix.diagonal(offset=i) for i in range(-6, 6)]\n",
        "        subarrays.extend(diagonals_left_to_right)\n",
        "\n",
        "        # Pobieranie przekątnej z prawej do lewej od długści 1 do 7\n",
        "        diagonals_right_to_left = [np.fliplr(matrix).diagonal(offset=i) for i in range(-6, 6)]\n",
        "        subarrays.extend(diagonals_right_to_left)\n",
        "\n",
        "        return subarrays\n",
        "\n",
        "    def count_groups(self, subarray: list[Player], player: Player) -> list[int]:\n",
        "        grouped_data = groupby((subarray))\n",
        "\n",
        "        # Inicjalizuj liczniki\n",
        "        single_count = 0\n",
        "        double_count = 0\n",
        "        triple_count = 0\n",
        "        quadruple_count = 0\n",
        "\n",
        "        # Iteruj przez grupy\n",
        "        for key, group in grouped_data:\n",
        "            # Oblicz długość grupy\n",
        "            group_length = len(list(group))\n",
        "            if key == player:\n",
        "                # Zlicz wystąpienia pojedyncze, podwójne, potrójne, poczwórne, itd.\n",
        "                if group_length == 1:\n",
        "                    single_count += 1\n",
        "                elif group_length == 2:\n",
        "                    double_count += 1\n",
        "                elif group_length == 3:\n",
        "                    triple_count += 1\n",
        "                elif group_length == 4:\n",
        "                    quadruple_count += 1\n",
        "\n",
        "        # Zwróć wyniki\n",
        "        return np.array([single_count, double_count, triple_count, quadruple_count])\n",
        "\n",
        "    def calculate_score_from_array(self, arr):\n",
        "        return np.sum(VALUES * arr)\n",
        "\n",
        "    def calculate_score(self, player: Player) -> float:\n",
        "        # Stworzenie podtablic planszy\n",
        "        subarrays = self.generate_subarrays()\n",
        "\n",
        "        # Oblicz wynik dla każdej podtablicy\n",
        "        scores = []\n",
        "        for subarray in subarrays:\n",
        "            # Zlicz grupy\n",
        "            groups = self.count_groups(subarray, player)\n",
        "            # Oblicz wynik\n",
        "            score = self.calculate_score_from_array(groups)\n",
        "            # Dodaj wynik do listy\n",
        "            scores.append(score)\n",
        "\n",
        "        # Zwróć sumę wyników\n",
        "        return np.sum(scores)\n",
        "\n",
        "    def evaluate_position(self, player: Player)->float:\n",
        "        if player == self.game.first_player:\n",
        "            opponent = self.game.second_player\n",
        "            factor = 1\n",
        "        else:\n",
        "            opponent = self.game.first_player\n",
        "            factor = -1\n",
        "\n",
        "        #sprawdzenie czy gra się skończyła\n",
        "        if self.game.is_finished():\n",
        "            if self.game.get_winner() == player:\n",
        "                return np.inf * factor\n",
        "            else:\n",
        "                return (-np.inf) * factor\n",
        "        # jeśli gra się nie skończyła, oblicz ewaluacje pozycji\n",
        "        else:\n",
        "            return (factor * self.calculate_score(player)) - (factor * self.calculate_score(opponent))\n",
        "\n",
        "    def is_valid_move(self, col_index:int)->bool:\n",
        "        possible_moves = self.game.get_moves()\n",
        "        if col_index in [move.column for move in possible_moves]:\n",
        "            return True\n",
        "        else:\n",
        "            return False\n",
        "\n",
        "    def minimax(self, depth, alpha:float, beta:float, is_maximizing_player:bool)-> Tuple[int, float]:\n",
        "        \"\"\"Returns column index and score\"\"\"\n",
        "        # jeśli depth to 0 albo gra jest skończona\n",
        "        if depth == 0 or self.game.is_finished():\n",
        "            if is_maximizing_player:\n",
        "                return None, self.evaluate_position(self.game.first_player)\n",
        "            else:\n",
        "                return None, self.evaluate_position(self.game.second_player)\n",
        "\n",
        "        # jeśli mamy podany depth i gra nadal trwa\n",
        "        if is_maximizing_player:\n",
        "            best_move = -1\n",
        "            max_eval = -np.inf\n",
        "            for column in range(COLUMN_COUNT):\n",
        "                if self.is_valid_move(column):\n",
        "                    self.game.make_move(ConnectFourMove(column))\n",
        "                    current_eval = self.minimax(depth - 1, alpha, beta, False)[1]\n",
        "                    self.game.reset_move(ConnectFourMove(column))\n",
        "\n",
        "                    # sprawdzenie czy mamy lepszy ruch\n",
        "                    if current_eval > max_eval:\n",
        "                        max_eval = current_eval\n",
        "                        best_move = column\n",
        "\n",
        "                    # odcięcie alpha beta\n",
        "                    alpha = max(alpha, current_eval)\n",
        "                    if beta <= alpha:\n",
        "                        break\n",
        "            return best_move, max_eval\n",
        "\n",
        "        else:\n",
        "            best_move = -1\n",
        "            max_eval = np.inf\n",
        "            for column in range(COLUMN_COUNT):\n",
        "                if self.is_valid_move(column):\n",
        "                    self.game.make_move(ConnectFourMove(column))\n",
        "                    current_eval = self.minimax(depth - 1, alpha, beta, True)[1]\n",
        "                    self.game.reset_move(ConnectFourMove(column))\n",
        "\n",
        "                    # sprawdzenie czy mamy lepszy ruch dla gracza minimalizującego\n",
        "                    if current_eval < max_eval:\n",
        "                        max_eval = current_eval\n",
        "                        best_move = column\n",
        "\n",
        "                    # odcięcie alpha beta\n",
        "                    beta = min(beta, current_eval)\n",
        "                    if beta <= alpha:\n",
        "                        break\n",
        "            return best_move, max_eval"
      ]
    },
    {
      "cell_type": "markdown",
      "metadata": {},
      "source": [
        "**Testowanie poprawności algorytmu minimax**\n",
        "==\n",
        "\n",
        "\n",
        "Aby przetestować poprawność zaimplementowanego algorytmu posłużymy się przykładami, w których w łatwy sposób dostrzec, że w kilku ruchach można wygrać, więc sprawdzimy, czy dla odpowiednich wartości głębokości przeszukiwań zwróci nam odpowiednie wyniki.\n"
      ]
    },
    {
      "cell_type": "markdown",
      "metadata": {},
      "source": [
        "Przykład 1 :\n",
        "--\n",
        "Gracz a  wygra niezależnie od ruchu gracza b, ale gracz   b przewidzi to głębokość 2 w górę, bo dla 1 nie jest w stanie wyłapać kolejnego ruchu po swoim"
      ]
    },
    {
      "cell_type": "code",
      "execution_count": 5,
      "metadata": {},
      "outputs": [
        {
          "name": "stdout",
          "output_type": "stream",
          "text": [
            "Current player: b\n",
            "[ ][ ][ ][ ][ ][ ][ ]\n",
            "[ ][ ][ ][ ][ ][ ][ ]\n",
            "[ ][ ][ ][ ][ ][ ][ ]\n",
            "[ ][ ][ ][ ][ ][ ][ ]\n",
            "[ ][ ][b][ ][ ][ ][ ]\n",
            "[ ][a][a][a][ ][ ][b]\n",
            "Minimax dla głębokości 3\n",
            "(-1, inf)\n",
            "Minimax dla głębokości 2\n",
            "(-1, inf)\n",
            "Minimax dla głębokości 1\n",
            "(1, 4)\n"
          ]
        }
      ],
      "source": [
        "p1 = Player(\"a\")\n",
        "p2 = Player(\"b\")\n",
        "game1 = ConnectFour(size=(COLUMN_COUNT, ROW_COUNT), first_player=p1, second_player=p2)\n",
        "solver = MinMaxSolver(game1)\n",
        "game1.make_move(ConnectFourMove(2)) # a\n",
        "game1.make_move(ConnectFourMove(2)) # b\n",
        "game1.make_move(ConnectFourMove(3)) # a\n",
        "game1.make_move(ConnectFourMove(6)) # b\n",
        "game1.make_move(ConnectFourMove(1)) # a\n",
        "# Ruch gracza b\n",
        "print(game1)\n",
        "print(\"Minimax dla głębokości 3\")\n",
        "print(solver.minimax(3, -np.inf, np.inf, False))\n",
        "print(\"Minimax dla głębokości 2\")\n",
        "print(solver.minimax(2, -np.inf, np.inf, False))\n",
        "print(\"Minimax dla głębokości 1\")\n",
        "print(solver.minimax(1, -np.inf, np.inf, False))"
      ]
    },
    {
      "cell_type": "markdown",
      "metadata": {},
      "source": [
        "Jak widać w tym przykładzie, dla głębokości 2, gracz b jest w stanie przewidzieć, że niezależnie jaką pozycję on zajmie i tak przegra, ponieważ gracz a ma aż 2 możliwości wygranej.\n",
        "Natomiast dla głębokości 1 nie jest w stanie przewidzieć kolejnego ruchu a, dlatego nie zwraca informacji o przegranej z góry, tylko zapewnia ruch, który da mu najwięcej punktów"
      ]
    },
    {
      "cell_type": "markdown",
      "metadata": {},
      "source": [
        "Przykład 2 : \n",
        "--\n",
        "Gracz a ma wygraną w 1 ruchu i algorytm to zauważy "
      ]
    },
    {
      "cell_type": "code",
      "execution_count": 6,
      "metadata": {},
      "outputs": [
        {
          "name": "stdout",
          "output_type": "stream",
          "text": [
            "Current player: a\n",
            "[ ][ ][ ][ ][ ][ ][ ]\n",
            "[ ][ ][ ][ ][ ][ ][ ]\n",
            "[ ][ ][ ][ ][ ][ ][ ]\n",
            "[ ][ ][ ][ ][ ][ ][ ]\n",
            "[ ][ ][b][ ][ ][ ][b]\n",
            "[ ][a][a][a][ ][ ][b]\n",
            "Minimax dla głębokości 1\n",
            "(0, inf)\n",
            "Minimax dla głębokości 3\n",
            "(0, inf)\n"
          ]
        }
      ],
      "source": [
        "p1 = Player(\"a\")\n",
        "p2 = Player(\"b\")\n",
        "game2 = ConnectFour(size=(COLUMN_COUNT, ROW_COUNT), first_player=p1, second_player=p2)\n",
        "solver = MinMaxSolver(game2)\n",
        "game2.make_move(ConnectFourMove(2)) # a\n",
        "game2.make_move(ConnectFourMove(2)) # b\n",
        "game2.make_move(ConnectFourMove(3)) # a\n",
        "game2.make_move(ConnectFourMove(6)) # b\n",
        "game2.make_move(ConnectFourMove(1)) # a\n",
        "game2.make_move(ConnectFourMove(6)) # b\n",
        "# Ruch gracza a\n",
        "print(game2)\n",
        "print(\"Minimax dla głębokości 1\")\n",
        "print(solver.minimax(1, -np.inf, np.inf, True))\n",
        "print(\"Minimax dla głębokości 3\")\n",
        "print(solver.minimax(3, -np.inf, np.inf, True))"
      ]
    },
    {
      "cell_type": "markdown",
      "metadata": {},
      "source": [
        "Widzimy, że już od głębokości 1, algorytm minimax przewiduje zwycięstwo a i zwraca nam pierwszy znaleziony przypadek wygranej"
      ]
    },
    {
      "cell_type": "markdown",
      "metadata": {},
      "source": [
        "Przykład 3 :\n",
        "--\n",
        "Gracz a  wygra niezależnie od ruchu b"
      ]
    },
    {
      "cell_type": "code",
      "execution_count": 7,
      "metadata": {},
      "outputs": [
        {
          "name": "stdout",
          "output_type": "stream",
          "text": [
            "Current player: a\n",
            "[ ][ ][ ][ ][ ][ ][ ]\n",
            "[ ][ ][ ][ ][ ][ ][ ]\n",
            "[ ][ ][ ][ ][ ][ ][ ]\n",
            "[ ][ ][ ][ ][ ][ ][ ]\n",
            "[ ][ ][b][ ][ ][ ][ ]\n",
            "[ ][ ][a][a][ ][ ][b]\n",
            "Minimax dla głębokości 2\n",
            "(1, 4)\n",
            "minimax dla głębokości 3\n",
            "(1, inf)\n"
          ]
        }
      ],
      "source": [
        "p1 = Player(\"a\")\n",
        "p2 = Player(\"b\")\n",
        "game3 = ConnectFour(size=(COLUMN_COUNT, ROW_COUNT), first_player=p1, second_player=p2)\n",
        "solver = MinMaxSolver(game3)\n",
        "game3.make_move(ConnectFourMove(2)) # a\n",
        "game3.make_move(ConnectFourMove(2)) # b\n",
        "game3.make_move(ConnectFourMove(3)) # a\n",
        "game3.make_move(ConnectFourMove(6)) # b\n",
        "# rusza się a\n",
        "print(game3)\n",
        "print(\"Minimax dla głębokości 2\")\n",
        "print(solver.minimax(2, -np.inf, np.inf, True))\n",
        "print(\"minimax dla głębokości 3\")\n",
        "print(solver.minimax(3, -np.inf, np.inf, True))"
      ]
    },
    {
      "cell_type": "markdown",
      "metadata": {},
      "source": [
        "Jak widzimy, w prosty sposób możemy dostrzec że w 3 kolejnych ruchach wygra a. Nasz algorytm jest w stanie to przewidzieć, dla głębokości 3 i wyższej. Natomiast dla głębokości 1 lub 2 algorytm nie będzie analizował następnego ruchu gracza a więc nie zauważy że ma ruch wygrywający"
      ]
    },
    {
      "cell_type": "markdown",
      "metadata": {},
      "source": [
        "Przykład 4 :\n",
        "--\n",
        "Gracz b jest ruch od wygranej, więc gracz a blokuje\n"
      ]
    },
    {
      "cell_type": "code",
      "execution_count": 8,
      "metadata": {},
      "outputs": [
        {
          "name": "stdout",
          "output_type": "stream",
          "text": [
            "Current player: a\n",
            "[ ][ ][ ][ ][ ][ ][ ]\n",
            "[ ][ ][ ][ ][ ][ ][ ]\n",
            "[ ][ ][b][ ][ ][ ][ ]\n",
            "[ ][ ][b][ ][ ][ ][ ]\n",
            "[ ][ ][b][ ][ ][ ][ ]\n",
            "[ ][ ][a][a][ ][ ][a]\n",
            "Minimax dla głębokości 2\n",
            "(2, -8)\n",
            "Minimax dla głębokości 1\n",
            "(1, 4)\n"
          ]
        }
      ],
      "source": [
        "p1 = Player(\"a\")\n",
        "p2 = Player(\"b\")\n",
        "game4 = ConnectFour(size=(COLUMN_COUNT, ROW_COUNT), first_player=p1, second_player=p2)\n",
        "solver = MinMaxSolver(game4)\n",
        "game4.make_move(ConnectFourMove(2)) # a\n",
        "game4.make_move(ConnectFourMove(2)) # b\n",
        "game4.make_move(ConnectFourMove(3)) # a\n",
        "game4.make_move(ConnectFourMove(2)) # b\n",
        "game4.make_move(ConnectFourMove(6)) # a\n",
        "game4.make_move(ConnectFourMove(2)) # b\n",
        "# rusza się a\n",
        "print(game4)\n",
        "print(\"Minimax dla głębokości 2\")\n",
        "print(solver.minimax(2, -np.inf, np.inf, True))\n",
        "print(\"Minimax dla głębokości 1\")\n",
        "print(solver.minimax(1, -np.inf, np.inf, True))"
      ]
    },
    {
      "cell_type": "markdown",
      "metadata": {},
      "source": [
        "Jak widzimy, dla głębokości 2, algorytm jest w stanie zobaczyć wygraną gracza b, dlatego blokuje jego wygrywający ruch. Natomiast dla głębokości 1 , algorytm nie przeanalizuje już sytuacji z ruchem b, dlatego wskaże maksymalizujący ilość punktów ruch dla gracza a"
      ]
    },
    {
      "cell_type": "markdown",
      "metadata": {},
      "source": [
        "Przykład 5 :\n",
        "--\n",
        "Gracz a jest ruch od wygranej chyba, że gracz b zablokuje"
      ]
    },
    {
      "cell_type": "code",
      "execution_count": 9,
      "metadata": {},
      "outputs": [
        {
          "name": "stdout",
          "output_type": "stream",
          "text": [
            "Current player: b\n",
            "[ ][ ][ ][ ][ ][ ][ ]\n",
            "[ ][ ][ ][ ][ ][ ][ ]\n",
            "[ ][ ][ ][ ][ ][ ][ ]\n",
            "[ ][ ][a][ ][ ][ ][ ]\n",
            "[ ][ ][a][ ][ ][ ][ ]\n",
            "[ ][ ][a][b][b][ ][ ]\n",
            "Minimax dla głębokości 1\n",
            "(3, 0)\n",
            "Minimax dla głębokości 2\n",
            "(2, 14)\n"
          ]
        }
      ],
      "source": [
        "p1 = Player(\"a\")\n",
        "p2 = Player(\"b\")\n",
        "game5= ConnectFour(size=(COLUMN_COUNT, ROW_COUNT), first_player=p1, second_player=p2)\n",
        "solver = MinMaxSolver(game5)\n",
        "game5.make_move(ConnectFourMove(2)) # a\n",
        "game5.make_move(ConnectFourMove(3)) # b\n",
        "game5.make_move(ConnectFourMove(2)) # a\n",
        "game5.make_move(ConnectFourMove(4)) # b\n",
        "game5.make_move(ConnectFourMove(2)) # a\n",
        "# rusza się b\n",
        "print(game5)\n",
        "print(\"Minimax dla głębokości 1\")\n",
        "print(solver.minimax(1, -np.inf, np.inf, False))\n",
        "print(\"Minimax dla głębokości 2\")\n",
        "print(solver.minimax(2, -np.inf, np.inf, False))\n"
      ]
    },
    {
      "cell_type": "markdown",
      "metadata": {},
      "source": [
        "Podobnie jak sytuację wyżej, badane było blokowanie ruchów wygrywających. I podobnie jak poprzednio, gracz będzie stanie przewidzieć wygraną przeciwnika dopiero od głębokości przewidywań 2 lub więcej"
      ]
    },
    {
      "cell_type": "markdown",
      "metadata": {},
      "source": [
        "Przykład 6 :\n",
        "--\n",
        "Gracz b wygra niezależnie od ruchu gracza a"
      ]
    },
    {
      "cell_type": "code",
      "execution_count": 10,
      "metadata": {},
      "outputs": [
        {
          "name": "stdout",
          "output_type": "stream",
          "text": [
            "Current player: a\n",
            "[ ][ ][ ][ ][ ][ ][ ]\n",
            "[ ][ ][ ][ ][ ][ ][ ]\n",
            "[ ][ ][ ][ ][ ][ ][ ]\n",
            "[ ][ ][ ][ ][ ][ ][ ]\n",
            "[a][ ][ ][ ][ ][ ][ ]\n",
            "[a][a][ ][b][b][b][ ]\n",
            "Minimax dla głębokości 2\n",
            "(-1, -inf)\n",
            "Minimax dla głębokości 3\n",
            "(-1, -inf)\n"
          ]
        }
      ],
      "source": [
        "p1 = Player(\"a\")\n",
        "p2 = Player(\"b\")\n",
        "game6 = ConnectFour(size=(COLUMN_COUNT, ROW_COUNT), first_player=p1, second_player=p2)\n",
        "solver = MinMaxSolver(game6)\n",
        "game6.make_move(ConnectFourMove(0)) # a\n",
        "game6.make_move(ConnectFourMove(3)) # b\n",
        "game6.make_move(ConnectFourMove(1)) # a\n",
        "game6.make_move(ConnectFourMove(4)) # b\n",
        "game6.make_move(ConnectFourMove(0)) # a\n",
        "game6.make_move(ConnectFourMove(5)) # b\n",
        "print(game6)\n",
        "print(\"Minimax dla głębokości 2\")\n",
        "print(solver.minimax(2, -np.inf, np.inf, True))\n",
        "print(\"Minimax dla głębokości 3\")\n",
        "print(solver.minimax(3, -np.inf, np.inf, True))"
      ]
    },
    {
      "cell_type": "markdown",
      "metadata": {},
      "source": [
        "Gracz a jest w sytuacji, że niezaależnie od swojego ruchu i tak przegra, ale zauważy to dopiero dla głębokości 2+"
      ]
    },
    {
      "cell_type": "markdown",
      "metadata": {},
      "source": [
        "Przykład 7 :\n",
        "--\n",
        "W tym przykładzie sprawdzimy, czy dla gry, która jest już w trakcie, algorytm jest przewidzieć wygraną dla dużej głębokości przeszukiwań"
      ]
    },
    {
      "cell_type": "code",
      "execution_count": 61,
      "metadata": {},
      "outputs": [
        {
          "name": "stdout",
          "output_type": "stream",
          "text": [
            "Current player: a\n",
            "[ ][ ][ ][ ][ ][ ][ ]\n",
            "[ ][ ][ ][ ][ ][ ][ ]\n",
            "[ ][ ][ ][ ][ ][ ][ ]\n",
            "[ ][ ][a][ ][ ][ ][ ]\n",
            "[ ][ ][b][b][a][b][ ]\n",
            "[ ][a][a][b][a][b][ ]\n",
            "Minimax dla głębokości 7 \n",
            "(4, 10)\n",
            "Minimax dla głębokości 9\n",
            "(4, 14)\n"
          ]
        }
      ],
      "source": [
        "p1 = Player(\"a\")\n",
        "p2 = Player(\"b\")\n",
        "game7 = ConnectFour(size=(COLUMN_COUNT, ROW_COUNT), first_player=p1, second_player=p2)\n",
        "solver = MinMaxSolver(game7)\n",
        "game7.make_move(ConnectFourMove(1)) #a\n",
        "game7.make_move(ConnectFourMove(5)) #b\n",
        "game7.make_move(ConnectFourMove(2)) #a\n",
        "game7.make_move(ConnectFourMove(5)) #b\n",
        "game7.make_move(ConnectFourMove(4)) #a\n",
        "game7.make_move(ConnectFourMove(3)) #b\n",
        "game7.make_move(ConnectFourMove(4)) #a\n",
        "game7.make_move(ConnectFourMove(2)) #b\n",
        "game7.make_move(ConnectFourMove(2)) #a\n",
        "game7.make_move(ConnectFourMove(3)) #b\n",
        "print(game7)\n",
        "#ruch a\n",
        "print(\"Minimax dla głębokości 7 \")\n",
        "print(solver.minimax(7, -np.inf, np.inf, True))\n",
        "print(\"Minimax dla głębokości 9\")\n",
        "print(solver.minimax(9, -np.inf, np.inf, True))"
      ]
    },
    {
      "cell_type": "markdown",
      "metadata": {},
      "source": [
        "Jak widzimy, dla takiej sytuacji, algorytmowi ciężko jest przewidzieć wygraną nawet dla dużej głębokości przeszukiwań, jest duże prawdopodobieństwo że nie istnieje zwycięstwo w takiej partii.\n",
        "Natomiast widzimy, że dla głębokości 7 i 9 zaleca nam podobny ruch i dla większej głębokości przewiduje, że ta pozycja zagwarantuje lepszą ewaluację pozycji"
      ]
    },
    {
      "cell_type": "markdown",
      "metadata": {},
      "source": [
        "Przykład 8 :\n",
        "--\n",
        "\n",
        "Ewaluacja pozycji, bez wygranych dla małych przeszukiwań"
      ]
    },
    {
      "cell_type": "code",
      "execution_count": 5,
      "metadata": {},
      "outputs": [
        {
          "name": "stdout",
          "output_type": "stream",
          "text": [
            "Current player: a\n",
            "[ ][ ][ ][ ][ ][ ][ ]\n",
            "[ ][ ][ ][ ][ ][ ][ ]\n",
            "[ ][ ][ ][ ][ ][ ][ ]\n",
            "[ ][ ][ ][ ][ ][ ][ ]\n",
            "[ ][ ][ ][ ][ ][ ][ ]\n",
            "[ ][a][a][b][a][b][b]\n",
            "Minimax dla głębokości 3 \n",
            "(0, 10)\n",
            "Minimax dla głębokości 5\n",
            "(2, 18)\n"
          ]
        }
      ],
      "source": [
        "p1 = Player(\"a\")\n",
        "p2 = Player(\"b\")\n",
        "game8 = ConnectFour(size=(COLUMN_COUNT, ROW_COUNT), first_player=p1, second_player=p2)\n",
        "solver = MinMaxSolver(game8)\n",
        "game8.make_move(ConnectFourMove(1)) #a\n",
        "game8.make_move(ConnectFourMove(5)) #b\n",
        "game8.make_move(ConnectFourMove(2)) #a\n",
        "game8.make_move(ConnectFourMove(3)) #b\n",
        "game8.make_move(ConnectFourMove(4)) #a\n",
        "game8.make_move(ConnectFourMove(6)) #b\n",
        "print(game8)\n",
        "#ruch a\n",
        "print(\"Minimax dla głębokości 3 \")\n",
        "print(solver.minimax(3, -np.inf, np.inf, True))\n",
        "print(\"Minimax dla głębokości 5\")\n",
        "print(solver.minimax(5, -np.inf, np.inf, True))"
      ]
    },
    {
      "cell_type": "markdown",
      "metadata": {},
      "source": [
        "Podobnie jak wyżej dla małych głębokości przeszukiwań algorytm również nie znajduje pozycji wygrancych, gdyż takowych nie ma. Jednakże widzimy, że dla większej głębokości jest w stanie przewidzieć więcej pozycji w przód i zwrócić nam tą najlepszą. I w tym wypadku mimo, że dla głębokości 3 ruch w kolumnie 2 nie jest bardziej opłacalny niż ruch w kolumnie 0, to dla przeszukania 5 pozycji w przód daje większe benefity."
      ]
    },
    {
      "cell_type": "markdown",
      "metadata": {},
      "source": [
        "Porównanie czasowe algorytmu minimax z i bez dodatku alfa-beta\n",
        "=="
      ]
    },
    {
      "cell_type": "code",
      "execution_count": 13,
      "metadata": {},
      "outputs": [],
      "source": [
        "p1 = Player(\"a\")\n",
        "p2 = Player(\"b\")\n",
        "game7 = ConnectFour(size=(COLUMN_COUNT, ROW_COUNT), first_player=p1, second_player=p2)\n",
        "game7.make_move(ConnectFourMove(1)) #a\n",
        "game7.make_move(ConnectFourMove(5)) #b\n",
        "game7.make_move(ConnectFourMove(2)) #a\n",
        "game7.make_move(ConnectFourMove(5)) #b\n",
        "game7.make_move(ConnectFourMove(4)) #a\n",
        "game7.make_move(ConnectFourMove(3)) #b\n",
        "game7.make_move(ConnectFourMove(4)) #a\n",
        "game7.make_move(ConnectFourMove(2)) #b\n",
        "game7.make_move(ConnectFourMove(2)) #a\n",
        "game7.make_move(ConnectFourMove(3)) #b\n",
        "\n",
        "def get_time(depth: int, game: ConnectFour) -> float:\n",
        "    solver = MinMaxSolver(game)\n",
        "    start_time = time()\n",
        "    solver.minimax(depth, -np.inf, np.inf, True)\n",
        "    end_time = time()\n",
        "    return end_time - start_time"
      ]
    },
    {
      "cell_type": "markdown",
      "metadata": {},
      "source": [
        "Głębokość 6 oraz zaimplementowane alfa-beta. Wykorzystujemy grę z przykładu 7"
      ]
    },
    {
      "cell_type": "code",
      "execution_count": 8,
      "metadata": {},
      "outputs": [
        {
          "name": "stdout",
          "output_type": "stream",
          "text": [
            "8.50769329071045\n"
          ]
        }
      ],
      "source": [
        "print(get_time(6, game7))"
      ]
    },
    {
      "cell_type": "markdown",
      "metadata": {},
      "source": [
        "Głębokość 6 oraz brak alfa-beta. Wykorzystujemy grę z przykładu 7 (nie tworzyłem algorytmu bez implementacji alfa-beta, tylko na czas testu zakomeptowałem odpowiednie linie odpowiadające właśnie za część alfa-beta)"
      ]
    },
    {
      "cell_type": "code",
      "execution_count": 12,
      "metadata": {},
      "outputs": [
        {
          "name": "stdout",
          "output_type": "stream",
          "text": [
            "80.20912599563599\n"
          ]
        }
      ],
      "source": [
        "print(get_time(6, game7))"
      ]
    },
    {
      "cell_type": "markdown",
      "metadata": {},
      "source": [
        "Wnioski\n",
        "--\n",
        "Jak widać odcięcie alfa-beta znacząco wpływa na szybkość działania algorytmu, ponieważ odcina ona wiele poddrzew, które zapewniają gorsze wyniki i nie ma sensu dalsza ich analiza. W naszym przykładzie różnica w wykonaniu była 10 razy dłuższa bez odcięcia alfa-beta"
      ]
    },
    {
      "cell_type": "markdown",
      "metadata": {},
      "source": [
        "Wykres zależności głębokości przeszukiwań od czasu trwania algorytmu minimax-alfabeta\n",
        "=="
      ]
    },
    {
      "cell_type": "markdown",
      "metadata": {},
      "source": [
        "W celu przedstawienia takowego wykresy wybierzemy przykładową grę z wyżej wymienionych, niech będzie to gra z przykładu 7 i skorzystamy z funkcji get_time"
      ]
    },
    {
      "cell_type": "code",
      "execution_count": 10,
      "metadata": {},
      "outputs": [],
      "source": [
        "depths = [1, 2, 3, 4, 5, 6, 7]\n",
        "def get_times(depths: List[int], game: ConnectFour) -> List[float]:\n",
        "    return [get_time(depth, game) for depth in depths]\n"
      ]
    },
    {
      "cell_type": "code",
      "execution_count": 16,
      "metadata": {},
      "outputs": [],
      "source": [
        "timer_without_alfa_beta = get_times(depths, game7)"
      ]
    },
    {
      "cell_type": "code",
      "execution_count": 14,
      "metadata": {},
      "outputs": [],
      "source": [
        "timer = get_times(depths, game7)"
      ]
    },
    {
      "cell_type": "code",
      "execution_count": 17,
      "metadata": {},
      "outputs": [
        {
          "data": {
            "image/png": "[encoded data removed]",
            "text/plain": [
              "<Figure size 640x480 with 1 Axes>"
            ]
          },
          "metadata": {},
          "output_type": "display_data"
        }
      ],
      "source": [
        "plt.plot(depths, timer, color=\"blue\")\n",
        "plt.plot(depths, timer_without_alfa_beta, color=\"red\")\n",
        "plt.xlabel(\"Głębokość\")\n",
        "plt.ylabel(\"Czas\")\n",
        "plt.show()"
      ]
    },
    {
      "cell_type": "markdown",
      "metadata": {},
      "source": [
        "Wnioski\n",
        "--\n",
        "Czas przeszukiwań rośnie w znaczący sposób (wykładniczy wręcz), ponieważ z każdym kolejnym przeszukaniem dochodzi nam kolejnych 7 pozycji dla istniejących już, ale algorytm alfa-betaczęść z nich odcina.\n",
        "Ogolną ilość pozycji do sprawdznia z głębokością można określić wzorem E(suma od i = 1 do głębokości) 7^i"
      ]
    },
    {
      "cell_type": "markdown",
      "metadata": {},
      "source": [
        "Symulacja rozgrywek dla różnych głębokości\n",
        "=="
      ]
    },
    {
      "cell_type": "markdown",
      "metadata": {},
      "source": [
        "W celu takiej symulacji napisałem prostą funkcję, która automatycznie rozgrywa grę, i przyjmuje za parametr głębokość przeszukiwań i ilość rund do zagrania"
      ]
    },
    {
      "cell_type": "code",
      "execution_count": 88,
      "metadata": {},
      "outputs": [],
      "source": [
        "def ai_vs_ai(number_of_iterations: int, depth: int):\n",
        "    # Tworzenie graczy\n",
        "    p1 = Player(\"a\")\n",
        "    p2 = Player(\"b\")\n",
        "    # Tworzenie gry\n",
        "    game = ConnectFour(size=(COLUMN_COUNT, ROW_COUNT), first_player=p1, second_player=p2)\n",
        "    solver = MinMaxSolver(game)\n",
        "    for rounds in range(number_of_iterations):\n",
        "        print(\"Round number : \", rounds)\n",
        "        print(\"Ruch a\")\n",
        "        move = solver.minimax(depth, -np.inf, np.inf, True)[0]\n",
        "        game.make_move(ConnectFourMove(move))\n",
        "        print(game)\n",
        "        if game.is_finished():\n",
        "            print(\"Wygrał gracz a\")\n",
        "            break\n",
        "        print(\"Ruch b\")\n",
        "        move = solver.minimax(depth, -np.inf, np.inf, False)[0]\n",
        "        game.make_move(ConnectFourMove(move))\n",
        "        print(game)\n",
        "        if game.is_finished():\n",
        "            print(\"Wygrał gracz b\")\n",
        "            break\n",
        "    print(game)"
      ]
    },
    {
      "cell_type": "markdown",
      "metadata": {},
      "source": [
        "Przykład 1 :\n",
        "--\n",
        "Symulacja 6 rund dla głębokości 3"
      ]
    },
    {
      "cell_type": "code",
      "execution_count": 91,
      "metadata": {},
      "outputs": [
        {
          "name": "stdout",
          "output_type": "stream",
          "text": [
            "Round number :  0\n",
            "Ruch a\n",
            "Current player: b\n",
            "[ ][ ][ ][ ][ ][ ][ ]\n",
            "[ ][ ][ ][ ][ ][ ][ ]\n",
            "[ ][ ][ ][ ][ ][ ][ ]\n",
            "[ ][ ][ ][ ][ ][ ][ ]\n",
            "[ ][ ][ ][ ][ ][ ][ ]\n",
            "[a][ ][ ][ ][ ][ ][ ]\n",
            "Ruch b\n",
            "Current player: a\n",
            "[ ][ ][ ][ ][ ][ ][ ]\n",
            "[ ][ ][ ][ ][ ][ ][ ]\n",
            "[ ][ ][ ][ ][ ][ ][ ]\n",
            "[ ][ ][ ][ ][ ][ ][ ]\n",
            "[b][ ][ ][ ][ ][ ][ ]\n",
            "[a][ ][ ][ ][ ][ ][ ]\n",
            "Round number :  1\n",
            "Ruch a\n",
            "Current player: b\n",
            "[ ][ ][ ][ ][ ][ ][ ]\n",
            "[ ][ ][ ][ ][ ][ ][ ]\n",
            "[ ][ ][ ][ ][ ][ ][ ]\n",
            "[ ][ ][ ][ ][ ][ ][ ]\n",
            "[b][ ][ ][ ][ ][ ][ ]\n",
            "[a][a][ ][ ][ ][ ][ ]\n",
            "Ruch b\n",
            "Current player: a\n",
            "[ ][ ][ ][ ][ ][ ][ ]\n",
            "[ ][ ][ ][ ][ ][ ][ ]\n",
            "[ ][ ][ ][ ][ ][ ][ ]\n",
            "[b][ ][ ][ ][ ][ ][ ]\n",
            "[b][ ][ ][ ][ ][ ][ ]\n",
            "[a][a][ ][ ][ ][ ][ ]\n",
            "Round number :  2\n",
            "Ruch a\n",
            "Current player: b\n",
            "[ ][ ][ ][ ][ ][ ][ ]\n",
            "[ ][ ][ ][ ][ ][ ][ ]\n",
            "[ ][ ][ ][ ][ ][ ][ ]\n",
            "[b][ ][ ][ ][ ][ ][ ]\n",
            "[b][ ][ ][ ][ ][ ][ ]\n",
            "[a][a][a][ ][ ][ ][ ]\n",
            "Ruch b\n",
            "Current player: a\n",
            "[ ][ ][ ][ ][ ][ ][ ]\n",
            "[ ][ ][ ][ ][ ][ ][ ]\n",
            "[ ][ ][ ][ ][ ][ ][ ]\n",
            "[b][ ][ ][ ][ ][ ][ ]\n",
            "[b][ ][ ][ ][ ][ ][ ]\n",
            "[a][a][a][b][ ][ ][ ]\n",
            "Round number :  3\n",
            "Ruch a\n",
            "Current player: b\n",
            "[ ][ ][ ][ ][ ][ ][ ]\n",
            "[ ][ ][ ][ ][ ][ ][ ]\n",
            "[ ][ ][ ][ ][ ][ ][ ]\n",
            "[b][ ][ ][ ][ ][ ][ ]\n",
            "[b][a][ ][ ][ ][ ][ ]\n",
            "[a][a][a][b][ ][ ][ ]\n",
            "Ruch b\n",
            "Current player: a\n",
            "[ ][ ][ ][ ][ ][ ][ ]\n",
            "[ ][ ][ ][ ][ ][ ][ ]\n",
            "[b][ ][ ][ ][ ][ ][ ]\n",
            "[b][ ][ ][ ][ ][ ][ ]\n",
            "[b][a][ ][ ][ ][ ][ ]\n",
            "[a][a][a][b][ ][ ][ ]\n",
            "Round number :  4\n",
            "Ruch a\n",
            "Current player: b\n",
            "[ ][ ][ ][ ][ ][ ][ ]\n",
            "[a][ ][ ][ ][ ][ ][ ]\n",
            "[b][ ][ ][ ][ ][ ][ ]\n",
            "[b][ ][ ][ ][ ][ ][ ]\n",
            "[b][a][ ][ ][ ][ ][ ]\n",
            "[a][a][a][b][ ][ ][ ]\n",
            "Ruch b\n",
            "Current player: a\n",
            "[ ][ ][ ][ ][ ][ ][ ]\n",
            "[a][ ][ ][ ][ ][ ][ ]\n",
            "[b][ ][ ][ ][ ][ ][ ]\n",
            "[b][b][ ][ ][ ][ ][ ]\n",
            "[b][a][ ][ ][ ][ ][ ]\n",
            "[a][a][a][b][ ][ ][ ]\n",
            "Round number :  5\n",
            "Ruch a\n",
            "Current player: b\n",
            "[ ][ ][ ][ ][ ][ ][ ]\n",
            "[a][ ][ ][ ][ ][ ][ ]\n",
            "[b][ ][ ][ ][ ][ ][ ]\n",
            "[b][b][ ][ ][ ][ ][ ]\n",
            "[b][a][a][ ][ ][ ][ ]\n",
            "[a][a][a][b][ ][ ][ ]\n",
            "Ruch b\n",
            "Current player: a\n",
            "[ ][ ][ ][ ][ ][ ][ ]\n",
            "[a][ ][ ][ ][ ][ ][ ]\n",
            "[b][ ][ ][ ][ ][ ][ ]\n",
            "[b][b][b][ ][ ][ ][ ]\n",
            "[b][a][a][ ][ ][ ][ ]\n",
            "[a][a][a][b][ ][ ][ ]\n",
            "Current player: a\n",
            "[ ][ ][ ][ ][ ][ ][ ]\n",
            "[a][ ][ ][ ][ ][ ][ ]\n",
            "[b][ ][ ][ ][ ][ ][ ]\n",
            "[b][b][b][ ][ ][ ][ ]\n",
            "[b][a][a][ ][ ][ ][ ]\n",
            "[a][a][a][b][ ][ ][ ]\n"
          ]
        }
      ],
      "source": [
        "ai_vs_ai(6, 3)"
      ]
    },
    {
      "cell_type": "markdown",
      "metadata": {},
      "source": [
        "Przykład 2 :\n",
        "--\n",
        "Symulacja 6 rund dla głębokości 5"
      ]
    },
    {
      "cell_type": "code",
      "execution_count": 92,
      "metadata": {},
      "outputs": [
        {
          "name": "stdout",
          "output_type": "stream",
          "text": [
            "Round number :  0\n",
            "Ruch a\n",
            "Current player: b\n",
            "[ ][ ][ ][ ][ ][ ][ ]\n",
            "[ ][ ][ ][ ][ ][ ][ ]\n",
            "[ ][ ][ ][ ][ ][ ][ ]\n",
            "[ ][ ][ ][ ][ ][ ][ ]\n",
            "[ ][ ][ ][ ][ ][ ][ ]\n",
            "[a][ ][ ][ ][ ][ ][ ]\n",
            "Ruch b\n",
            "Current player: a\n",
            "[ ][ ][ ][ ][ ][ ][ ]\n",
            "[ ][ ][ ][ ][ ][ ][ ]\n",
            "[ ][ ][ ][ ][ ][ ][ ]\n",
            "[ ][ ][ ][ ][ ][ ][ ]\n",
            "[b][ ][ ][ ][ ][ ][ ]\n",
            "[a][ ][ ][ ][ ][ ][ ]\n",
            "Round number :  1\n",
            "Ruch a\n",
            "Current player: b\n",
            "[ ][ ][ ][ ][ ][ ][ ]\n",
            "[ ][ ][ ][ ][ ][ ][ ]\n",
            "[ ][ ][ ][ ][ ][ ][ ]\n",
            "[ ][ ][ ][ ][ ][ ][ ]\n",
            "[b][ ][ ][ ][ ][ ][ ]\n",
            "[a][a][ ][ ][ ][ ][ ]\n",
            "Ruch b\n",
            "Current player: a\n",
            "[ ][ ][ ][ ][ ][ ][ ]\n",
            "[ ][ ][ ][ ][ ][ ][ ]\n",
            "[ ][ ][ ][ ][ ][ ][ ]\n",
            "[ ][ ][ ][ ][ ][ ][ ]\n",
            "[b][b][ ][ ][ ][ ][ ]\n",
            "[a][a][ ][ ][ ][ ][ ]\n",
            "Round number :  2\n",
            "Ruch a\n",
            "Current player: b\n",
            "[ ][ ][ ][ ][ ][ ][ ]\n",
            "[ ][ ][ ][ ][ ][ ][ ]\n",
            "[ ][ ][ ][ ][ ][ ][ ]\n",
            "[ ][ ][ ][ ][ ][ ][ ]\n",
            "[b][b][ ][ ][ ][ ][ ]\n",
            "[a][a][a][ ][ ][ ][ ]\n",
            "Ruch b\n",
            "Current player: a\n",
            "[ ][ ][ ][ ][ ][ ][ ]\n",
            "[ ][ ][ ][ ][ ][ ][ ]\n",
            "[ ][ ][ ][ ][ ][ ][ ]\n",
            "[ ][ ][ ][ ][ ][ ][ ]\n",
            "[b][b][ ][ ][ ][ ][ ]\n",
            "[a][a][a][b][ ][ ][ ]\n",
            "Round number :  3\n",
            "Ruch a\n",
            "Current player: b\n",
            "[ ][ ][ ][ ][ ][ ][ ]\n",
            "[ ][ ][ ][ ][ ][ ][ ]\n",
            "[ ][ ][ ][ ][ ][ ][ ]\n",
            "[ ][ ][ ][ ][ ][ ][ ]\n",
            "[b][b][a][ ][ ][ ][ ]\n",
            "[a][a][a][b][ ][ ][ ]\n",
            "Ruch b\n",
            "Current player: a\n",
            "[ ][ ][ ][ ][ ][ ][ ]\n",
            "[ ][ ][ ][ ][ ][ ][ ]\n",
            "[ ][ ][ ][ ][ ][ ][ ]\n",
            "[ ][ ][b][ ][ ][ ][ ]\n",
            "[b][b][a][ ][ ][ ][ ]\n",
            "[a][a][a][b][ ][ ][ ]\n",
            "Round number :  4\n",
            "Ruch a\n",
            "Current player: b\n",
            "[ ][ ][ ][ ][ ][ ][ ]\n",
            "[ ][ ][ ][ ][ ][ ][ ]\n",
            "[ ][ ][ ][ ][ ][ ][ ]\n",
            "[ ][a][b][ ][ ][ ][ ]\n",
            "[b][b][a][ ][ ][ ][ ]\n",
            "[a][a][a][b][ ][ ][ ]\n",
            "Ruch b\n",
            "Current player: a\n",
            "[ ][ ][ ][ ][ ][ ][ ]\n",
            "[ ][ ][ ][ ][ ][ ][ ]\n",
            "[ ][ ][ ][ ][ ][ ][ ]\n",
            "[ ][a][b][ ][ ][ ][ ]\n",
            "[b][b][a][b][ ][ ][ ]\n",
            "[a][a][a][b][ ][ ][ ]\n",
            "Round number :  5\n",
            "Ruch a\n",
            "Current player: b\n",
            "[ ][ ][ ][ ][ ][ ][ ]\n",
            "[ ][ ][ ][ ][ ][ ][ ]\n",
            "[ ][ ][ ][ ][ ][ ][ ]\n",
            "[ ][a][b][a][ ][ ][ ]\n",
            "[b][b][a][b][ ][ ][ ]\n",
            "[a][a][a][b][ ][ ][ ]\n",
            "Ruch b\n",
            "Current player: a\n",
            "[ ][ ][ ][ ][ ][ ][ ]\n",
            "[ ][ ][ ][ ][ ][ ][ ]\n",
            "[ ][ ][ ][ ][ ][ ][ ]\n",
            "[ ][a][b][a][ ][ ][ ]\n",
            "[b][b][a][b][ ][ ][ ]\n",
            "[a][a][a][b][b][ ][ ]\n",
            "Current player: a\n",
            "[ ][ ][ ][ ][ ][ ][ ]\n",
            "[ ][ ][ ][ ][ ][ ][ ]\n",
            "[ ][ ][ ][ ][ ][ ][ ]\n",
            "[ ][a][b][a][ ][ ][ ]\n",
            "[b][b][a][b][ ][ ][ ]\n",
            "[a][a][a][b][b][ ][ ]\n"
          ]
        }
      ],
      "source": [
        "ai_vs_ai(6, 5)"
      ]
    },
    {
      "cell_type": "markdown",
      "metadata": {},
      "source": [
        "Patrząc na te 2 przykłady widzimy, że w zależności od głębokości przeszukiwań, nasza gra toczy się w inny sposób. Gracze przewidują dla siebie jak najlepsze ruchy, jednocześnie blokując ruchy dobre dla rywala / lub jego wygrywające.\n",
        "Jeżeli obra ruchy gra komputer to spodziewamy się raczej remisu"
      ]
    },
    {
      "cell_type": "markdown",
      "metadata": {},
      "source": [
        "Symulajca gry : gracz kontra komputer\n",
        "=="
      ]
    },
    {
      "cell_type": "markdown",
      "metadata": {},
      "source": [
        "W tym celu napisałem prostą funkcję umożliwiającą grę na komputer"
      ]
    },
    {
      "cell_type": "code",
      "execution_count": 19,
      "metadata": {},
      "outputs": [],
      "source": [
        "def ai_vs_player(depth):\n",
        "    p1 = Player(\"a\")\n",
        "    p2 = Player(\"b\")\n",
        "    game = ConnectFour(size=(COLUMN_COUNT, ROW_COUNT), first_player=p1, second_player=p2)\n",
        "    solver = MinMaxSolver(game)\n",
        "    while game.is_finished() is False:\n",
        "        print(\"ruch komputera\")\n",
        "        print(solver.minimax(depth, -np.inf, np.inf, True))\n",
        "        move = solver.minimax(depth, -np.inf, np.inf, True)[0]\n",
        "        game.make_move(ConnectFourMove(move))\n",
        "        print(game)\n",
        "        print(\" \")\n",
        "        if game.is_finished():\n",
        "            break\n",
        "        print(\"ruch gracza\")\n",
        "        player_move = int(input())\n",
        "        game.make_move(ConnectFourMove(player_move))\n",
        "        print(game)\n",
        "        print(\" \")\n",
        "        if game.is_finished():\n",
        "            break\n",
        "    print(\"Koniec gry\")"
      ]
    },
    {
      "cell_type": "markdown",
      "metadata": {},
      "source": [
        "Symulacja rozgrywki : "
      ]
    },
    {
      "cell_type": "code",
      "execution_count": 20,
      "metadata": {},
      "outputs": [
        {
          "name": "stdout",
          "output_type": "stream",
          "text": [
            "ruch komputera\n",
            "(0, 6)\n",
            "Current player: b\n",
            "[ ][ ][ ][ ][ ][ ][ ]\n",
            "[ ][ ][ ][ ][ ][ ][ ]\n",
            "[ ][ ][ ][ ][ ][ ][ ]\n",
            "[ ][ ][ ][ ][ ][ ][ ]\n",
            "[ ][ ][ ][ ][ ][ ][ ]\n",
            "[a][ ][ ][ ][ ][ ][ ]\n",
            " \n",
            "ruch gracza\n",
            "Current player: a\n",
            "[ ][ ][ ][ ][ ][ ][ ]\n",
            "[ ][ ][ ][ ][ ][ ][ ]\n",
            "[ ][ ][ ][ ][ ][ ][ ]\n",
            "[ ][ ][ ][ ][ ][ ][ ]\n",
            "[ ][ ][ ][ ][ ][ ][ ]\n",
            "[a][b][ ][ ][ ][ ][ ]\n",
            " \n",
            "ruch komputera\n",
            "(0, 8)\n",
            "Current player: b\n",
            "[ ][ ][ ][ ][ ][ ][ ]\n",
            "[ ][ ][ ][ ][ ][ ][ ]\n",
            "[ ][ ][ ][ ][ ][ ][ ]\n",
            "[ ][ ][ ][ ][ ][ ][ ]\n",
            "[a][ ][ ][ ][ ][ ][ ]\n",
            "[a][b][ ][ ][ ][ ][ ]\n",
            " \n",
            "ruch gracza\n",
            "Current player: a\n",
            "[ ][ ][ ][ ][ ][ ][ ]\n",
            "[ ][ ][ ][ ][ ][ ][ ]\n",
            "[ ][ ][ ][ ][ ][ ][ ]\n",
            "[ ][ ][ ][ ][ ][ ][ ]\n",
            "[a][ ][ ][ ][ ][ ][ ]\n",
            "[a][b][b][ ][ ][ ][ ]\n",
            " \n",
            "ruch komputera\n",
            "(0, 14)\n",
            "Current player: b\n",
            "[ ][ ][ ][ ][ ][ ][ ]\n",
            "[ ][ ][ ][ ][ ][ ][ ]\n",
            "[ ][ ][ ][ ][ ][ ][ ]\n",
            "[a][ ][ ][ ][ ][ ][ ]\n",
            "[a][ ][ ][ ][ ][ ][ ]\n",
            "[a][b][b][ ][ ][ ][ ]\n",
            " \n",
            "ruch gracza\n",
            "Current player: a\n",
            "[ ][ ][ ][ ][ ][ ][ ]\n",
            "[ ][ ][ ][ ][ ][ ][ ]\n",
            "[ ][ ][ ][ ][ ][ ][ ]\n",
            "[a][ ][ ][ ][ ][ ][ ]\n",
            "[a][b][ ][ ][ ][ ][ ]\n",
            "[a][b][b][ ][ ][ ][ ]\n",
            " \n",
            "ruch komputera\n",
            "(0, inf)\n",
            "Current player: b\n",
            "[ ][ ][ ][ ][ ][ ][ ]\n",
            "[ ][ ][ ][ ][ ][ ][ ]\n",
            "[a][ ][ ][ ][ ][ ][ ]\n",
            "[a][ ][ ][ ][ ][ ][ ]\n",
            "[a][b][ ][ ][ ][ ][ ]\n",
            "[a][b][b][ ][ ][ ][ ]\n",
            " \n",
            "Koniec gry\n"
          ]
        }
      ],
      "source": [
        "ai_vs_player(3)"
      ]
    },
    {
      "cell_type": "markdown",
      "metadata": {},
      "source": [
        "Wnioski\n",
        "==\n",
        "\n",
        "Jak widać algorytm minimax, bardzo dobrze sprawdza się w gracz dwuosobowych, ponieważ jest w stanie przewidzieć wiele ruchów do przodu i tym samym wybrać dla siebie najbardziej optymalny. Wiele jednak zależy od heurystki oceny pozycji, jaka zostanie zaiplementowana w algorytmie. W moim przypadku wybrana została prosta, jednakże spełnia ona swoją rolę i przeiwduje zwycięstwa bądź porażki dla różnych głębokości.\n"
      ]
    }
  ],
  "metadata": {
    "kernelspec": {
      "display_name": "Python 3",
      "language": "python",
      "name": "python3"
    },
    "language_info": {
      "codemirror_mode": {
        "name": "ipython",
        "version": 3
      },
      "file_extension": ".py",
      "mimetype": "text/x-python",
      "name": "python",
      "nbconvert_exporter": "python",
      "pygments_lexer": "ipython3",
      "version": "3.10.11"
    },
    "nteract": {
      "version": "nteract-front-end@1.0.0"
    }
  },
  "nbformat": 4,
  "nbformat_minor": 0
}
