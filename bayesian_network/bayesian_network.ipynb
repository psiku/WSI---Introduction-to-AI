{
  "cells": [
    {
      "cell_type": "markdown",
      "metadata": {
        "id": "cpar5LziY_-0"
      },
      "source": [
        "#Zadanie 7 (7 pkt)\n",
        "Celem zadania jest zaimplementowanie dwóch wersji naiwnego klasyfikatora Bayesa.\n",
        "* W pierwszej wersji należy dokonać dyskretyzacji danych - przedział wartości każdego atrybutu dzielimy na cztery równe przedziały i każdej ciągłej wartości atrybutu przypisujemy wartość dyskretną wynikająca z przynależności do danego przedziału.\n",
        "* W drugiej wersji wartości likelihood wyliczamy z rozkładów normalnych o średnich i odchyleniach standardowych wynikających z wartości atrybutów.\n",
        "Trening i test należy przeprowadzić dla zbioru Iris, tak jak w przypadku zadania z drzewem klasyfikacyjnym. Proszę przeprowadzić eksperymenty najpierw dla DOKŁADNIE takiego podziału zbioru testowego i treningowego jak umieszczony poniżej. W dalszej części należy przeprowadzić analizę działania klasyfikatorów dla różnych wartości parametrów. Proszę korzystać z przygotowanego szkieletu programu, oczywiście można go modyfikować według potrzeb. Wszelkie elementy szkieletu zostaną wyjaśnione na zajęciach.\n",
        "\n",
        "* Dyskretyzacja danych - **0.5 pkt**\n",
        "* Implementacja funkcji rozkładu normalnego o zadanej średniej i odchyleniu standardowym. - **0.5 pkt**\n",
        "* Implementacja naiwnego klasyfikatora Bayesa dla danych dyskretnych. - **2.0 pkt**\n",
        "* Implementacja naiwnego klasyfikatora Bayesa dla danych ciągłych. - **2.5 pkt**\n",
        "* Przeprowadzenie eksperymentów, wnioski i sposób ich prezentacji. - **1.5 pkt**"
      ]
    },
    {
      "cell_type": "code",
      "execution_count": 1,
      "metadata": {
        "id": "XNc-O3npA-J9"
      },
      "outputs": [],
      "source": [
        "from sklearn.datasets import load_iris\n",
        "from sklearn.model_selection import train_test_split\n",
        "import math\n",
        "import numpy as np\n",
        "import pandas as pd\n",
        "\n",
        "iris = load_iris()\n",
        "\n",
        "x = iris.data\n",
        "y = iris.target\n",
        "\n",
        "x_train, x_test, y_train, y_test = train_test_split(x, y, test_size=0.1, random_state=123)"
      ]
    },
    {
      "cell_type": "markdown",
      "metadata": {},
      "source": [
        "NAIVE BAYES : \n",
        "---"
      ]
    },
    {
      "cell_type": "code",
      "execution_count": 2,
      "metadata": {
        "id": "fBh2tfQ44u5k"
      },
      "outputs": [],
      "source": [
        "import numpy as np\n",
        "from sklearn.model_selection import train_test_split\n",
        "\n",
        "\n",
        "SMALL_VALUE = 1e-4\n",
        "\n",
        "class NaiveBayes:\n",
        "    def __init__(self):\n",
        "        self.priors = {}\n",
        "        self.likelihoods = {}\n",
        "\n",
        "    # dla każdej unikalnej wartości oblicza prawdopodobieństwo wystąpienia danej klasy\n",
        "    def calculate_priors(self, train_classes: np.ndarray) -> dict:\n",
        "\n",
        "        priors = {}\n",
        "        unique_values = np.unique(train_classes)\n",
        "\n",
        "        for value in unique_values:\n",
        "            probability = train_classes.tolist().count(value) / len(train_classes)\n",
        "            priors[value] = probability\n",
        "        return priors\n",
        "\n",
        "\n",
        "    def calculate_likelihood(self, train_attributes: np.ndarray, train_classes: np.ndarray) -> dict:\n",
        "\n",
        "        likelihoods = {}\n",
        "        unique_classes = np.unique(train_classes)\n",
        "\n",
        "        # Ilość atrybutów\n",
        "        num_attributes = train_attributes.shape[1]\n",
        "\n",
        "        for item_class in unique_classes:\n",
        "            likelihoods[item_class] = {}\n",
        "\n",
        "            # Dla każdego atrybutu\n",
        "            for attribute in range(num_attributes):\n",
        "                # Wybierz wartości atrybutu dla danej klasy\n",
        "                class_attribute_values = train_attributes[train_classes == item_class, attribute]\n",
        "                total_values = len(class_attribute_values)\n",
        "\n",
        "                # Zlicz wystąpienia unikalnych wartości\n",
        "                unique_values, counts = np.unique(class_attribute_values, return_counts=True)\n",
        "\n",
        "                probabilities = counts / total_values\n",
        "\n",
        "                # Zapisz do słownika\n",
        "                likelihoods[item_class][attribute] = dict(zip(unique_values, probabilities))\n",
        "\n",
        "        return likelihoods\n",
        "        # likehoods wygląda tak {klasa: atrubyt[0, 1, 2, 3] (któa kolumna): {wartość_atrubutu (do którego przedziału należy) : prawdopodobieństwo}}\n",
        "\n",
        "\n",
        "    # budujemy klasyfikator\n",
        "    def build_classifier(self, train_attributes: np.ndarray, train_classes: np.ndarray):\n",
        "        self.priors = self.calculate_priors(train_classes)\n",
        "        self.likelihoods = self.calculate_likelihood(train_attributes, train_classes)\n",
        "\n",
        "\n",
        "    # dzielimy wartości na 4 przedziały\n",
        "    @staticmethod\n",
        "    def data_discretization(data, amount=4):\n",
        "        cols = data.shape[1]\n",
        "\n",
        "        # tworzymy tabelę, którą iniclijemy zerami\n",
        "        discretized_data = np.zeros_like(data, dtype=int)\n",
        "\n",
        "        # dla każdej kolumny\n",
        "        for col in range(cols):\n",
        "            # robimy 4 równe przedziały [:, col] -> zwraca nam daną kolumnę\n",
        "            bins = np.linspace(start=np.min(data[:, col]), stop=np.max(data[:, col]), num=amount)\n",
        "\n",
        "            # obliczamy indeksy przedziałów dla danej kolumny\n",
        "            discretized_data[:, col] = np.digitize(data[:, col], bins)\n",
        "\n",
        "        return discretized_data\n",
        "\n",
        "\n",
        "\n",
        "    # obliczamy prawdopodobieństwo wystąpienia danej klasy (stosujemy logarytmy bo lepiej trzyma wartość)\n",
        "    def predict(self, sample):\n",
        "        class_propabilities = {}\n",
        "\n",
        "        for item_class in np.unique(y_train):\n",
        "            class_propabilities[item_class] = np.log(self.priors[item_class])\n",
        "\n",
        "            for atribute, value in enumerate(sample):\n",
        "                # dla każdego atrybutu bierzemy jego prawdopodobieństwo warunkowe, a jak wyniosło ono 0 to bierzemy małą wartość\n",
        "                likelihood = self.likelihoods[item_class][atribute].get(value, SMALL_VALUE)\n",
        "                class_propabilities[item_class] += np.log(likelihood)\n",
        "\n",
        "        return max(class_propabilities, key=class_propabilities.get)\n"
      ]
    },
    {
      "cell_type": "code",
      "execution_count": 36,
      "metadata": {},
      "outputs": [],
      "source": [
        "# Funkcja do treningu i testowania klasyfikatora\n",
        "def test_classfier(classifier, train_features, train_classes, test_features, test_classes):\n",
        "    classifier.build_classifier(train_features, train_classes)\n",
        "    predictions = [classifier.predict(sample) for sample in test_features]\n",
        "    accuracy = np.mean(predictions == test_classes)\n",
        "    return accuracy"
      ]
    },
    {
      "cell_type": "code",
      "execution_count": 37,
      "metadata": {},
      "outputs": [
        {
          "name": "stdout",
          "output_type": "stream",
          "text": [
            "Accuracy : 0.9333333333333333\n"
          ]
        }
      ],
      "source": [
        "nb = NaiveBayes()\n",
        "\n",
        "x_train, x_test, y_train, y_test = train_test_split(x, y, test_size=0.1, random_state=123)\n",
        "discretized_x_train = NaiveBayes.data_discretization(x_train)\n",
        "discretized_x_test = NaiveBayes.data_discretization(x_test)\n",
        "\n",
        "nb_accuracy_sum = test_classfier(nb, discretized_x_train, y_train, discretized_x_test, y_test)\n",
        "print(f\"Accuracy : {nb_accuracy_sum}\")"
      ]
    },
    {
      "cell_type": "markdown",
      "metadata": {},
      "source": [
        "NAIVE GAUSSIAN BAYES : \n",
        "---"
      ]
    },
    {
      "cell_type": "code",
      "execution_count": 5,
      "metadata": {},
      "outputs": [],
      "source": [
        "import numpy as np\n",
        "from sklearn.datasets import load_iris\n",
        "from sklearn.model_selection import train_test_split\n",
        "import math\n",
        "\n",
        "SMALL_VALUE = 1e-4\n",
        "class GaussianNaiveBayes:\n",
        "    def __init__(self):\n",
        "        self.priors = {}\n",
        "        self.likelihoods = {}\n",
        "\n",
        "    def calculate_priors(self, train_classes: np.ndarray) -> dict:\n",
        "        priors = {}\n",
        "        unique_values = np.unique(train_classes)\n",
        "\n",
        "        for value in unique_values:\n",
        "            probability = train_classes.tolist().count(value) / len(train_classes)\n",
        "            priors[value] = probability\n",
        "        return priors\n",
        "\n",
        "    def calculate_likelihood(self, train_attributes: np.ndarray, train_classes: np.ndarray) -> dict:\n",
        "        likelihoods = {}\n",
        "        unique_classes = np.unique(train_classes)\n",
        "\n",
        "        num_attributes = train_attributes.shape[1]\n",
        "\n",
        "        for unique_class in unique_classes:\n",
        "            likelihoods[unique_class] = {}\n",
        "\n",
        "            for attribute in range(num_attributes):\n",
        "                mean = np.mean(train_attributes[train_classes == unique_class, attribute])\n",
        "                std = np.std(train_attributes[train_classes == unique_class, attribute])\n",
        "\n",
        "                likelihoods[unique_class][attribute] = (mean, std)\n",
        "\n",
        "        return likelihoods\n",
        "\n",
        "    def build_classifier(self, train_features, train_classes):\n",
        "        self.priors = self.calculate_priors(train_classes)\n",
        "        self.likelihoods = self.calculate_likelihood(train_features, train_classes)\n",
        "\n",
        "    @staticmethod\n",
        "    def normal_dist(x, mean, std):\n",
        "        if std > 0:\n",
        "            e = math.exp(-(x - mean) ** 2 / (2 * (std ** 2)))\n",
        "            normal_distribution = (1 / (std * math.sqrt(2 * math.pi))) * e\n",
        "        else:\n",
        "            normal_distribution = 0\n",
        "\n",
        "        return normal_distribution\n",
        "\n",
        "    def predict(self, sample):\n",
        "        class_predictions = {}\n",
        "        unique_classes = np.unique(y_train)\n",
        "\n",
        "        for unique_class in unique_classes:\n",
        "            class_predictions[unique_class] = np.log(self.priors[unique_class])\n",
        "\n",
        "            for attribute, value in enumerate(sample):\n",
        "                mean = self.likelihoods[unique_class][attribute][0]\n",
        "                std = self.likelihoods[unique_class][attribute][1]\n",
        "\n",
        "                fx = self.normal_dist(value, mean, max(std, SMALL_VALUE))\n",
        "                class_predictions[unique_class] += np.log(max(fx, SMALL_VALUE))\n",
        "\n",
        "        predict_class = max(class_predictions, key=class_predictions.get)\n",
        "\n",
        "        return predict_class"
      ]
    },
    {
      "cell_type": "code",
      "execution_count": 38,
      "metadata": {},
      "outputs": [
        {
          "name": "stdout",
          "output_type": "stream",
          "text": [
            "Accuracy : 1.0\n"
          ]
        }
      ],
      "source": [
        "nb = GaussianNaiveBayes()\n",
        "\n",
        "x_train, x_test, y_train, y_test = train_test_split(x, y, test_size=0.1, random_state=123)\n",
        "\n",
        "nb_accuracy_sum = test_classfier(nb, x_train, y_train, x_test, y_test)\n",
        "print(f\"Accuracy : {nb_accuracy_sum}\")"
      ]
    },
    {
      "cell_type": "markdown",
      "metadata": {},
      "source": [
        "Porównanie NaiveBayes z GaussianNaiveBayes :\n",
        "---"
      ]
    },
    {
      "cell_type": "code",
      "execution_count": 39,
      "metadata": {},
      "outputs": [
        {
          "name": "stdout",
          "output_type": "stream",
          "text": [
            "   NaiveBayes Accuracy  GaussianNaiveBayes Accuracy\n",
            "0             1.000000                     1.000000\n",
            "1             0.866667                     0.933333\n",
            "2             0.933333                     0.866667\n",
            "3             0.933333                     1.000000\n",
            "4             1.000000                     1.000000\n",
            "5             0.933333                     1.000000\n",
            "6             0.733333                     1.000000\n",
            "7             0.933333                     1.000000\n",
            "8             0.600000                     0.933333\n",
            "9             0.666667                     0.866667\n",
            "---------------------------\n",
            "NB mean accuracy over all seeds : 0.86\n",
            "GNB mean accuracy over all seeds : 0.96\n"
          ]
        }
      ],
      "source": [
        "# Załaduj dane Iris\n",
        "iris = load_iris()\n",
        "X = iris.data\n",
        "y = iris.target\n",
        "\n",
        "# Zdefiniuj zakres seedów\n",
        "seed_range = range(1, 11)\n",
        "\n",
        "# Utwórz tabelę wyników\n",
        "results = []\n",
        "\n",
        "for i in seed_range:\n",
        "\n",
        "\n",
        "    # Podział danych na zbiór treningowy i testowy\n",
        "    x_train, x_test, y_train, y_test = train_test_split(X, y, test_size=0.1, random_state=None)\n",
        "\n",
        "    # Dla klasyfikatora Naive Bayes\n",
        "    nb = NaiveBayes()\n",
        "    discretized_x_train = nb.data_discretization(x_train)\n",
        "    discretized_x_test = nb.data_discretization(x_test)\n",
        "    nb_accuracy = test_classfier(nb, discretized_x_train, y_train, discretized_x_test, y_test)\n",
        "\n",
        "    # Dla klasyfikatora Gaussian Naive Bayes\n",
        "    gnb = GaussianNaiveBayes()\n",
        "    gnb_accuracy = test_classfier(gnb, x_train, y_train, x_test, y_test)\n",
        "\n",
        "\n",
        "    # Dodaj wyniki do tabeli\n",
        "    results.append({\n",
        "        'NaiveBayes Accuracy': nb_accuracy,\n",
        "        'GaussianNaiveBayes Accuracy': gnb_accuracy\n",
        "    })\n",
        "# Utwórz ramkę danych Pandas z wynikami\n",
        "df_results = pd.DataFrame(results)\n",
        "\n",
        "# Oblicz średnie wartości\n",
        "nb_mean = df_results['NaiveBayes Accuracy'].mean()\n",
        "gnb_mean = df_results['GaussianNaiveBayes Accuracy'].mean()\n",
        "\n",
        "# Wydrukuj tabelę w terminalu\n",
        "print(df_results)\n",
        "print(\"---------------------------\")\n",
        "print(f'NB mean accuracy over all seeds : {nb_mean}')\n",
        "print(f'GNB mean accuracy over all seeds : {gnb_mean}')"
      ]
    },
    {
      "cell_type": "code",
      "execution_count": 42,
      "metadata": {},
      "outputs": [
        {
          "data": {
            "image/png": "[encoded data removed]",
            "text/plain": [
              "<Figure size 640x480 with 1 Axes>"
            ]
          },
          "metadata": {},
          "output_type": "display_data"
        }
      ],
      "source": [
        "# na wykresie\n",
        "import matplotlib.pyplot as plt\n",
        "\n",
        "\n",
        "loop_result_nb = []\n",
        "loop_results_gnb = []\n",
        "results_nb = []\n",
        "results_gnb = []\n",
        "\n",
        "for j in range(1, 11):\n",
        "# Utwórz listę wartości dla osi x\n",
        "    for i in range(1, 11):\n",
        "        # Podział danych na zbiór treningowy i testowy\n",
        "        x_train, x_test, y_train, y_test = train_test_split(X, y, test_size=0.1, random_state=None)\n",
        "\n",
        "        # Dla klasyfikatora Naive Bayes\n",
        "        nb = NaiveBayes()\n",
        "        discretized_x_train = nb.data_discretization(x_train)\n",
        "        discretized_x_test = nb.data_discretization(x_test)\n",
        "        nb_accuracy = test_classfier(nb, discretized_x_train, y_train, discretized_x_test, y_test)\n",
        "\n",
        "        # Dla klasyfikatora Gaussian Naive Bayes\n",
        "        gnb = GaussianNaiveBayes()\n",
        "        gnb_accuracy = test_classfier(gnb, x_train, y_train, x_test, y_test)\n",
        "\n",
        "        # Dodaj wyniki do tabeli\n",
        "        results_nb.append(nb_accuracy)\n",
        "        results_gnb.append(gnb_accuracy)\n",
        "\n",
        "    loop_result_nb.append(np.mean(results_nb))\n",
        "    loop_results_gnb.append(np.mean(results_gnb))\n",
        "\n",
        "# narysuj wykres\n",
        "plt.plot(loop_result_nb, label='NaiveBayes')\n",
        "plt.plot(loop_results_gnb, label='GaussianNaiveBayes')\n",
        "plt.xlabel('Number of iteration')\n",
        "plt.ylabel('Accuracy')\n",
        "plt.legend()\n",
        "plt.show()\n"
      ]
    },
    {
      "cell_type": "markdown",
      "metadata": {},
      "source": [
        "Accuracy NaiveBayes w zależności od ilości przedziałów na które dzielimy : \n",
        "---"
      ]
    },
    {
      "cell_type": "code",
      "execution_count": 44,
      "metadata": {},
      "outputs": [
        {
          "name": "stdout",
          "output_type": "stream",
          "text": [
            "   NaiveBayes Accuracy  Amount of bins\n",
            "0             0.600000               2\n",
            "1             0.733333               3\n",
            "2             0.866667               4\n",
            "3             0.733333               5\n",
            "4             0.866667               6\n",
            "5             0.933333               7\n",
            "6             0.933333               8\n",
            "7             0.600000             100\n",
            "8             0.600000             500\n",
            "9             0.600000            1000\n"
          ]
        }
      ],
      "source": [
        "# Załaduj dane Iris\n",
        "iris = load_iris()\n",
        "X = iris.data\n",
        "y = iris.target\n",
        "\n",
        "# Zdefiniuj zakres seedów\n",
        "seed_range = range(1, 11)\n",
        "\n",
        "# Utwórz tabelę wyników\n",
        "results = []\n",
        "\n",
        "for value in [2, 3, 4, 5, 6, 7, 8, 100, 500, 1000]:\n",
        "    for i in seed_range:\n",
        "        # Podział danych na zbiór treningowy i testowy\n",
        "        x_train, x_test, y_train, y_test = train_test_split(X, y, test_size=0.1, random_state=None)\n",
        "\n",
        "        # Dla klasyfikatora Naive Bayes\n",
        "        nb = NaiveBayes()\n",
        "        discretized_x_train = nb.data_discretization(x_train, value)\n",
        "        discretized_x_test = nb.data_discretization(x_test, value)\n",
        "        nb_accuracy = test_classfier(nb, discretized_x_train, y_train, discretized_x_test, y_test)\n",
        "\n",
        "\n",
        "    # Dodaj wyniki do tabeli\n",
        "    results.append({\n",
        "        'NaiveBayes Accuracy': nb_accuracy,\n",
        "        'Amount of bins' : value\n",
        "    })\n",
        "\n",
        "# Utwórz ramkę danych Pandas z wynikami\n",
        "df_results = pd.DataFrame(results)\n",
        "\n",
        "print(df_results)"
      ]
    },
    {
      "cell_type": "code",
      "execution_count": 35,
      "metadata": {},
      "outputs": [
        {
          "data": {
            "image/png": "[encoded data removed]",
            "text/plain": [
              "<Figure size 640x480 with 1 Axes>"
            ]
          },
          "metadata": {},
          "output_type": "display_data"
        }
      ],
      "source": [
        "# Załaduj dane Iris\n",
        "iris = load_iris()\n",
        "X = iris.data\n",
        "y = iris.target\n",
        "\n",
        "accuracy = []\n",
        "num_of_bins = []\n",
        "\n",
        "values = np.arange(2, 20, 1)\n",
        "values = np.append(values, [50, 75, 100])\n",
        "\n",
        "\n",
        "for value in (values):\n",
        "    res = []\n",
        "    for i in range(1, 11):\n",
        "        # Podział danych na zbiór treningowy i testowy z użyciem aktualnego seeda\n",
        "        x_train, x_test, y_train, y_test = train_test_split(X, y, test_size=0.1, random_state=None)\n",
        "\n",
        "        # Dla klasyfikatora Naive Bayes\n",
        "        nb = NaiveBayes()\n",
        "        discretized_x_train = nb.data_discretization(x_train, value)\n",
        "        discretized_x_test = nb.data_discretization(x_test, value)\n",
        "        nb_accuracy = test_classfier(nb, discretized_x_train, y_train, discretized_x_test, y_test)\n",
        "\n",
        "        res.append(nb_accuracy)\n",
        "\n",
        "    accuracy.append(np.mean(res))\n",
        "    num_of_bins.append(value)\n",
        "\n",
        "# Wykres\n",
        "plt.plot(num_of_bins, accuracy)\n",
        "plt.xlabel('Number of bins')\n",
        "plt.ylabel('Accuracy')\n",
        "plt.title('Accuracy vs. Number of Bins for Naive Bayes Classifier')\n",
        "plt.show()"
      ]
    },
    {
      "cell_type": "markdown",
      "metadata": {},
      "source": [
        "Wnioski : \n",
        "---"
      ]
    },
    {
      "cell_type": "markdown",
      "metadata": {},
      "source": [
        "- Zwiększenie liczby podziałów w dyskretyzacji dla NaiveBayes zwiększa accuracy. Dobre wyniki widoczne są już od 4 w górę, gdzie sięga ona okolice 80%+ i utrzymuje się przez jakiś czas. Dla mniejszych wartości wynosić może w okolicach nawet 40%. Dla zbyt dużych ilości kubełków, accuracy spada do niższych wartości\n",
        "- GausianNaiveBayes jest bardziej skuteczny niż NaiveBayes i daje wyniki średnie w okolicahc 91%+\n",
        "- Dla seedów testowych (tj. seed 123) NaiveBayes dał accuracy 93% a GaussianNaiveBayes dał 100%"
      ]
    }
  ],
  "metadata": {
    "colab": {
      "provenance": []
    },
    "kernelspec": {
      "display_name": "Python 3",
      "name": "python3"
    },
    "language_info": {
      "codemirror_mode": {
        "name": "ipython",
        "version": 3
      },
      "file_extension": ".py",
      "mimetype": "text/x-python",
      "name": "python",
      "nbconvert_exporter": "python",
      "pygments_lexer": "ipython3",
      "version": "3.12.0"
    },
    "nteract": {
      "version": "nteract-front-end@1.0.0"
    }
  },
  "nbformat": 4,
  "nbformat_minor": 0
}
